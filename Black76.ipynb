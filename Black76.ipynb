{
 "cells": [
  {
   "cell_type": "code",
   "execution_count": 111,
   "metadata": {
    "collapsed": true
   },
   "outputs": [],
   "source": [
    "# Black (1976) functions\n",
    "#\n",
    "# Valuation of European call options in Black76 model\n",
    "# incl. Vega function and implied volatility estimation\n",
    "# black76_functions.py\n",
    "#"
   ]
  },
  {
   "cell_type": "code",
   "execution_count": 112,
   "metadata": {
    "collapsed": true
   },
   "outputs": [],
   "source": [
    "# Analytical Black-Scholes-Merton (BSM) Formula\n",
    "def black76_call_value(F, K, T, r, sigma):\n",
    "    ''' Valuation of European call option in Black76 model.\n",
    "    Analytical formula.\n",
    "\n",
    "    Parameters\n",
    "    ==========\n",
    "    F : float\n",
    "        initial futures price\n",
    "    K : float\n",
    "        strike price\n",
    "    T : float\n",
    "        maturity date (in year fractions)\n",
    "    r : float\n",
    "        constant risk-free short rate\n",
    "    sigma : float\n",
    "        volatility factor in diffusion term\n",
    "    Returns\n",
    "    =======\n",
    "    value : float\n",
    "        present value of the European call option\n",
    "    '''\n",
    "    from math import log, sqrt, exp\n",
    "    from scipy import stats\n",
    "    F = float(F)\n",
    "    d1 = (log(F / K) + (0.5 * sigma ** 2) * T) / (sigma * sqrt(T))\n",
    "    d2 = d1- sigma * sqrt(T)\n",
    "    value = exp(-r * T) *(F * stats.norm.cdf(d1, 0.0, 1.0)- K *  stats.norm.cdf(d2, 0.0, 1.0))\n",
    "        # stats.norm.cdf --> cumulative distribution function for normal distribution\n",
    "    return value"
   ]
  },
  {
   "cell_type": "code",
   "execution_count": 113,
   "metadata": {
    "collapsed": false
   },
   "outputs": [],
   "source": [
    "# Vega function\n",
    "def black76_vega(F, K, T, sigma):\n",
    "    ''' Vega of European option in Black76 model.\n",
    "    Parameters\n",
    "    ==========\n",
    "    F : float\n",
    "        initial future price\n",
    "    K : float\n",
    "        strike price\n",
    "    T : float\n",
    "        maturity date (in year fractions)\n",
    "    sigma : float\n",
    "        volatility factor in diffusion term\n",
    "    Returns\n",
    "    =======\n",
    "    vega : float\n",
    "        partial derivative of BSM formula with respect to sigma, i.e. Vega\n",
    "    '''\n",
    "    from math import log, sqrt\n",
    "    from scipy import stats\n",
    "    F = float(F)\n",
    "    d1 = (log(F/ K) + (0.5 * sigma ** 2) * T )/ (sigma * sqrt(T))\n",
    "    vega = F * stats.norm.cdf(d1, 0.0, 1.0) * sqrt(T)\n",
    "    return vega"
   ]
  },
  {
   "cell_type": "code",
   "execution_count": 114,
   "metadata": {
    "collapsed": true
   },
   "outputs": [],
   "source": [
    "# Implied volatility function\n",
    "def black76_call_imp_vol(F, K, T, r, C0, sigma_est, it):\n",
    "    ''' Implied volatility of European call option in Black model.\n",
    "    Parameters\n",
    "    ==========\n",
    "    F : float\n",
    "        initial stock/index level\n",
    "    K : float\n",
    "        strike price\n",
    "    T : float\n",
    "        maturity date (in year fractions)\n",
    "    r : float\n",
    "        constant risk-free short rate\n",
    "    sigma_est : float\n",
    "        estimate of impl. volatility\n",
    "    it : integer\n",
    "        number of iterations\n",
    "    Returns\n",
    "    =======\n",
    "    simga_est : float\n",
    "        numerically estimated implied volatility\n",
    "    '''\n",
    "    for i in range(it):\n",
    "        sigma_est -= ((black76_call_value(F, K, T, r, sigma_est) - C0)/ black76_vega(F, K, T, sigma_est))\n",
    "    return sigma_est    "
   ]
  },
  {
   "cell_type": "code",
   "execution_count": null,
   "metadata": {
    "collapsed": true
   },
   "outputs": [],
   "source": []
  }
 ],
 "metadata": {
  "kernelspec": {
   "display_name": "Python 2",
   "language": "python",
   "name": "python2"
  },
  "language_info": {
   "codemirror_mode": {
    "name": "ipython",
    "version": 2
   },
   "file_extension": ".py",
   "mimetype": "text/x-python",
   "name": "python",
   "nbconvert_exporter": "python",
   "pygments_lexer": "ipython2",
   "version": "2.7.13"
  }
 },
 "nbformat": 4,
 "nbformat_minor": 2
}
